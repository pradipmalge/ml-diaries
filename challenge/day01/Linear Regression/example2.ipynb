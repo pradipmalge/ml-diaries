{
 "cells": [
  {
   "cell_type": "markdown",
   "id": "0a7e98ba-5207-4d8a-950b-2b978204a13b",
   "metadata": {
    "vscode": {
     "languageId": "markdown"
    }
   },
   "source": [
    "# Linear Regression Example: Predicting House Prices\n",
    "\n",
    "In this example, we will use the California Housing dataset to predict house prices based on various features such as house age, population, average occupation etc. The dataset is available in `sklearn`.\n",
    "\n",
    "## Steps:\n",
    "1. Import necessary libraries and load the dataset.\n",
    "2. Explore the dataset to understand its structure.\n",
    "3. Split the dataset into training and testing sets.\n",
    "4. Train a linear regression model on the training data.\n",
    "5. Evaluate the model on the testing data.\n",
    "6. Visualize the results.\n",
    "\n",
    "---\n",
    "\n",
    "### Step 1: Import Libraries and Load Dataset\n",
    "We will import the necessary libraries and load the California Housing dataset from `sklearn`."
   ]
  },
  {
   "cell_type": "code",
   "execution_count": null,
   "id": "b07070f1",
   "metadata": {},
   "outputs": [],
   "source": [
    "from sklearn.datasets import fetch_california_housing\n",
    "import pandas as pd\n",
    "\n",
    "# Load the California Housing dataset\n",
    "california = fetch_california_housing(as_frame=True)\n",
    "\n",
    "# Create a DataFrame from the dataset\n",
    "data = california.frame\n",
    "\n",
    "# Display the first few rows of the dataset\n",
    "data.head()"
   ]
  },
  {
   "cell_type": "markdown",
   "id": "4271f090-1d31-4162-9180-8065437e66ce",
   "metadata": {
    "vscode": {
     "languageId": "markdown"
    }
   },
   "source": [
    "### Step 2: Explore the Dataset\n",
    "\n",
    "In this step, we will explore the dataset to understand its structure and characteristics. This includes:\n",
    "- Displaying basic information about the dataset, such as column names, data types, and non-null counts.\n",
    "- Generating summary statistics to understand the distribution of numerical features.\n",
    "- Checking for missing values to ensure data quality."
   ]
  },
  {
   "cell_type": "code",
   "execution_count": null,
   "id": "848f715e",
   "metadata": {},
   "outputs": [],
   "source": [
    "# Display basic information about the dataset\n",
    "data.info()\n",
    "\n",
    "# Display summary statistics of the dataset\n",
    "data.describe()\n",
    "\n",
    "# Check for missing values\n",
    "data.isnull().sum()"
   ]
  },
  {
   "cell_type": "markdown",
   "id": "858dfb4c-20fe-476c-8640-ace107d0eff0",
   "metadata": {
    "vscode": {
     "languageId": "markdown"
    }
   },
   "source": [
    "### Step 3: Split the Dataset into Training and Testing Sets\n",
    "\n",
    "To train and evaluate our model, we need to split the dataset into two parts:\n",
    "- **Training Set**: Used to train the model.\n",
    "- **Testing Set**: Used to evaluate the model's performance on unseen data.\n",
    "\n",
    "We will use `train_test_split` from `sklearn.model_selection` to split the dataset. Typically, 70-80% of the data is used for training, and the remaining 20-30% is used for testing."
   ]
  },
  {
   "cell_type": "code",
   "execution_count": null,
   "id": "64bc34df",
   "metadata": {},
   "outputs": [],
   "source": [
    "from sklearn.model_selection import train_test_split\n",
    "\n",
    "# Split the dataset into training and testing sets\n",
    "X = data.drop('MedHouseVal', axis=1)\n",
    "y = data['MedHouseVal']\n",
    "X_train, X_test, y_train, y_test = train_test_split(X, y, test_size=0.2, random_state=42)\n",
    "\n",
    "# Display the shapes of the resulting datasets\n",
    "X_train.shape, X_test.shape, y_train.shape, y_test.shape"
   ]
  },
  {
   "cell_type": "markdown",
   "id": "b0b4231a-4eda-4b5c-9e3d-c2ec12ff6884",
   "metadata": {
    "vscode": {
     "languageId": "markdown"
    }
   },
   "source": [
    "### Step 4: Train a Linear Regression Model\n",
    "\n",
    "In this step, we will train a linear regression model using the training data. Linear regression is a simple yet powerful algorithm for predicting a continuous target variable based on one or more input features.\n",
    "\n",
    "We will use the `LinearRegression` class from `sklearn.linear_model` to fit the model to the training data."
   ]
  },
  {
   "cell_type": "code",
   "execution_count": null,
   "id": "c5fd02a5",
   "metadata": {},
   "outputs": [],
   "source": [
    "from sklearn.linear_model import LinearRegression\n",
    "\n",
    "# Initialize the linear regression model\n",
    "model = LinearRegression()\n",
    "\n",
    "# Fit the model to the training data\n",
    "model.fit(X_train, y_train)\n",
    "\n",
    "# Display the model's coefficients and intercept\n",
    "model.coef_, model.intercept_"
   ]
  },
  {
   "cell_type": "markdown",
   "id": "99dea508-aa93-438c-ab14-015178660d79",
   "metadata": {
    "vscode": {
     "languageId": "markdown"
    }
   },
   "source": [
    "### Step 5: Evaluate the Model\n",
    "\n",
    "In this step, we will evaluate the performance of the trained linear regression model on the testing data. This includes:\n",
    "- Calculating the Mean Squared Error (MSE) to measure the average squared difference between predicted and actual values.\n",
    "- Calculating the R-squared score to determine how well the model explains the variance in the target variable.\n",
    "\n",
    "We will use the `mean_squared_error` and `r2_score` functions from `sklearn.metrics` for evaluation."
   ]
  },
  {
   "cell_type": "code",
   "execution_count": null,
   "id": "3f116461",
   "metadata": {},
   "outputs": [],
   "source": [
    "from sklearn.metrics import mean_squared_error, r2_score\n",
    "\n",
    "# Make predictions on the testing data\n",
    "y_pred = model.predict(X_test)\n",
    "\n",
    "# Calculate Mean Squared Error (MSE)\n",
    "mse = mean_squared_error(y_test, y_pred)\n",
    "\n",
    "# Calculate R-squared score\n",
    "r2 = r2_score(y_test, y_pred)\n",
    "\n",
    "# Display the evaluation metrics\n",
    "mse, r2"
   ]
  },
  {
   "cell_type": "markdown",
   "id": "db316a46-1f2e-4d73-ba97-79f651ef518e",
   "metadata": {
    "vscode": {
     "languageId": "markdown"
    }
   },
   "source": [
    "### Step 6: Visualize the Results\n",
    "\n",
    "In this step, we will visualize the performance of the linear regression model by plotting the predicted values against the actual values. This will help us understand how well the model is performing and identify any patterns or discrepancies.\n",
    "\n",
    "We will create a scatter plot where:\n",
    "- The x-axis represents the actual values.\n",
    "- The y-axis represents the predicted values.\n",
    "\n",
    "Additionally, we will plot a diagonal line to indicate the ideal scenario where predicted values perfectly match the actual values."
   ]
  },
  {
   "cell_type": "code",
   "execution_count": null,
   "id": "e930a7aa",
   "metadata": {},
   "outputs": [],
   "source": [
    "import matplotlib.pyplot as plt\n",
    "\n",
    "# Step 6: Visualize the Results\n",
    "\n",
    "# Create a scatter plot\n",
    "plt.scatter(y_test, y_pred, alpha=0.7)\n",
    "plt.xlabel('Actual Prices')\n",
    "plt.ylabel('Predicted Prices')\n",
    "plt.title('Actual vs Predicted Prices')\n",
    "\n",
    "# Plot a diagonal line for reference\n",
    "plt.plot([y_test.min(), y_test.max()], [y_test.min(), y_test.max()], color='red', linestyle='--', linewidth=2)\n",
    "\n",
    "# Show the plot\n",
    "plt.show()"
   ]
  },
  {
   "cell_type": "code",
   "execution_count": null,
   "id": "a3ff79ae-f2be-4e31-a086-ec83ac717455",
   "metadata": {},
   "outputs": [],
   "source": []
  }
 ],
 "metadata": {
  "kernelspec": {
   "display_name": "Python 3 (ipykernel)",
   "language": "python",
   "name": "python3"
  },
  "language_info": {
   "codemirror_mode": {
    "name": "ipython",
    "version": 3
   },
   "file_extension": ".py",
   "mimetype": "text/x-python",
   "name": "python",
   "nbconvert_exporter": "python",
   "pygments_lexer": "ipython3",
   "version": "3.12.7"
  }
 },
 "nbformat": 4,
 "nbformat_minor": 5
}
